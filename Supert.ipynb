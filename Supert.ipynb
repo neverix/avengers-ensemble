{
 "cells": [
  {
   "cell_type": "code",
   "execution_count": 1,
   "id": "administrative-relation",
   "metadata": {},
   "outputs": [],
   "source": [
    "import torch"
   ]
  },
  {
   "cell_type": "code",
   "execution_count": 24,
   "id": "patent-forestry",
   "metadata": {},
   "outputs": [
    {
     "data": {
      "text/plain": [
       "Parameter containing:\n",
       "tensor([0.5956, 0.3648, 0.3186, 0.9966, 0.3703, 0.2377, 0.6515, 0.4781, 0.2666,\n",
       "        0.2021, 0.4316, 0.7793, 0.5155, 0.2032, 0.4882, 0.1496, 0.2735, 0.7793,\n",
       "        0.5795, 0.3783, 0.0476, 0.2949, 0.5600, 0.5452, 0.0535, 0.4157, 0.2332,\n",
       "        0.2836, 0.9630, 0.6195, 0.2034, 0.7572, 0.8557, 0.7176, 0.4382, 0.1881,\n",
       "        0.0866, 0.5243, 0.2365, 0.7865, 0.4423, 0.7046, 0.2454, 0.9491, 0.7263,\n",
       "        0.9066, 0.3920, 0.9584, 0.2857, 0.0331, 0.8630, 0.6776, 0.8900, 0.1761,\n",
       "        0.8714, 0.3452, 0.5360, 0.7653, 0.1153, 0.1638, 0.7554, 0.9915, 0.5168,\n",
       "        0.0537, 0.4590, 0.6063, 0.8849, 0.5401, 0.8708, 0.4792, 0.3134, 0.0854,\n",
       "        0.8715, 0.4330, 0.0493, 0.0249, 0.6979, 0.1509, 0.0325, 0.0490, 0.5968,\n",
       "        0.2431, 0.1177, 0.1362, 0.6316, 0.1862, 0.8323, 0.5836, 0.0103, 0.0957,\n",
       "        0.8001, 0.9458, 0.8872, 0.4927, 0.5315, 0.5528, 0.7426, 0.3400, 0.5119,\n",
       "        0.5877], requires_grad=True)"
      ]
     },
     "execution_count": 24,
     "metadata": {},
     "output_type": "execute_result"
    }
   ],
   "source": [
    "x = torch.nn.Parameter(torch.rand(100, requires_grad=True))\n",
    "x"
   ]
  },
  {
   "cell_type": "code",
   "execution_count": 25,
   "id": "useful-exploration",
   "metadata": {},
   "outputs": [
    {
     "data": {
      "text/plain": [
       "tensor([0., 0., 0., 1., 0., 0., 0., 0., 0., 0., 0., 0., 0., 0., 0., 0., 0., 0.,\n",
       "        0., 0., 0., 0., 0., 0., 0., 0., 0., 0., 1., 0., 0., 0., 0., 0., 0., 0.,\n",
       "        0., 0., 0., 0., 0., 0., 0., 1., 0., 1., 0., 1., 0., 0., 0., 0., 1., 0.,\n",
       "        0., 0., 0., 0., 0., 0., 0., 1., 0., 0., 0., 0., 1., 0., 0., 0., 0., 0.,\n",
       "        0., 0., 0., 0., 0., 0., 0., 0., 0., 0., 0., 0., 0., 0., 0., 0., 0., 0.,\n",
       "        0., 1., 1., 0., 0., 0., 0., 0., 0., 0.])"
      ]
     },
     "execution_count": 25,
     "metadata": {},
     "output_type": "execute_result"
    }
   ],
   "source": [
    "y = torch.topk(x, 10).values\n",
    "y = y.sum()\n",
    "y.backward()\n",
    "x.grad"
   ]
  },
  {
   "cell_type": "code",
   "execution_count": 26,
   "id": "accessory-serum",
   "metadata": {},
   "outputs": [
    {
     "data": {
      "text/plain": [
       "tensor([0., 0., 0., 1., 0., 0., 0., 0., 0., 0., 0., 0., 0., 0., 0., 0., 0., 0.,\n",
       "        0., 0., 0., 0., 0., 0., 0., 0., 0., 0., 1., 0., 0., 0., 0., 0., 0., 0.,\n",
       "        0., 0., 0., 0., 0., 0., 0., 1., 0., 1., 0., 1., 0., 0., 0., 0., 1., 0.,\n",
       "        0., 0., 0., 0., 0., 0., 0., 1., 0., 0., 0., 0., 1., 0., 0., 0., 0., 0.,\n",
       "        0., 0., 0., 0., 0., 0., 0., 0., 0., 0., 0., 0., 0., 0., 0., 0., 0., 0.,\n",
       "        0., 1., 1., 0., 0., 0., 0., 0., 0., 0.])"
      ]
     },
     "execution_count": 26,
     "metadata": {},
     "output_type": "execute_result"
    }
   ],
   "source": [
    "z = x[torch.topk(x, 10).indices]\n",
    "z = z.sum()\n",
    "z.backward\n",
    "x.grad"
   ]
  },
  {
   "cell_type": "code",
   "execution_count": null,
   "id": "coordinated-venue",
   "metadata": {},
   "outputs": [],
   "source": []
  }
 ],
 "metadata": {
  "kernelspec": {
   "display_name": "Python 3",
   "language": "python",
   "name": "python3"
  },
  "language_info": {
   "codemirror_mode": {
    "name": "ipython",
    "version": 3
   },
   "file_extension": ".py",
   "mimetype": "text/x-python",
   "name": "python",
   "nbconvert_exporter": "python",
   "pygments_lexer": "ipython3",
   "version": "3.8.6"
  }
 },
 "nbformat": 4,
 "nbformat_minor": 5
}
