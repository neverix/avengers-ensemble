{
 "cells": [
  {
   "cell_type": "code",
   "execution_count": null,
   "metadata": {
    "colab": {
     "base_uri": "https://localhost:8080/"
    },
    "id": "vk7goEUn4PpX",
    "outputId": "7416ef62-5490-48a6-f5a1-ab0ade837779"
   },
   "outputs": [],
   "source": [
    "!pip install -U  t5[gcp]\\<0.8.0 tensorflow\\<2.4.0 tensorflow-text\\<2.4.0 numpy\\<1.19.0 tfds-nightly==4.0.1.dev202011040107 tensorflow-gcs-config\\<2.4.0"
   ]
  },
  {
   "cell_type": "code",
   "execution_count": null,
   "metadata": {
    "id": "yUxB5YtK4eH8"
   },
   "outputs": [],
   "source": [
    "from google.colab import auth\n",
    "auth.authenticate_user()"
   ]
  },
  {
   "cell_type": "code",
   "execution_count": null,
   "metadata": {
    "colab": {
     "base_uri": "https://localhost:8080/",
     "height": 38
    },
    "id": "ZtBlw3x03p86",
    "outputId": "6b050a3e-8d82-4485-b1be-c3c80cb065f2"
   },
   "outputs": [],
   "source": [
    "import os\n",
    "TPU_ADDRESS = \"grpc://\" + os.environ[\"COLAB_TPU_ADDR\"] \n",
    "TPU_TOPOLOGY = 'v2-8'\n",
    "TPU_ADDRESS"
   ]
  },
  {
   "cell_type": "code",
   "execution_count": null,
   "metadata": {
    "id": "FjqrOmLqo3aG"
   },
   "outputs": [],
   "source": [
    "import tensorflow.compat.v1 as tf\n",
    "tf.disable_v2_behavior()"
   ]
  },
  {
   "cell_type": "code",
   "execution_count": null,
   "metadata": {
    "colab": {
     "base_uri": "https://localhost:8080/"
    },
    "id": "iD08JU46YAeZ",
    "outputId": "07d536ff-6f82-4498-e771-3a67fdc1204f"
   },
   "outputs": [],
   "source": [
    "!t5_mesh_transformer --tpu=\"grpc://10.100.205.10:8470\" --gin_param=\"utils.tpu_mesh_shape.tpu_topology = 'v2-8'\" \\\n",
    "  --model_dir=\"gs://supert/3B-blet\" --gin_file=\"dataset.gin\" \\\n",
    "  --gin_file=\"gs://t5-data/pretrained_models/3B/operative_config.gin\" \\\n",
    "  --gin_param=\"utils.tpu_mesh_shape.model_parallelism = 8\" \\\n",
    "  --gin_param=\"utils.run.train_dataset_fn = @t5.models.mesh_transformer.tsv_dataset_fn\" \\\n",
    "  --gin_param=\"tsv_dataset_fn.filename = 'gs://supert/rucos-train-ru-alli.tsv'\" \\\n",
    "  --gin_param=\"run.train_steps = 1005000\" \\\n",
    "  --gin_param=\"run.batch_size = 128\" \\\n",
    "  --gin_param=\"utils.run.save_checkpoints_steps = 500\" \\\n",
    "  --gin_param=\"utils.run.learning_rate_schedule = @learning_rate_schedules.constant_learning_rate\" \\\n",
    "  --gin_param=\"constant_learning_rate.learning_rate = 1e-3\" \\\n",
    "  --gin_param=\"run.sequence_length = {'inputs': 768, 'targets': 64}\""
   ]
  },
  {
   "cell_type": "code",
   "execution_count": null,
   "metadata": {
    "colab": {
     "base_uri": "https://localhost:8080/"
    },
    "id": "02_uGqCJpq4l",
    "outputId": "f90f199e-3dd6-4130-e265-76796f4edce8"
   },
   "outputs": [],
   "source": [
    "import t5\n",
    "from google.colab import files\n",
    "\n",
    "for step in [# 1_000_600,\n",
    "             # 1_001_200,\n",
    "             #1_002_400,\n",
    "             # 1_001_800,,\n",
    "             1_003_000,\n",
    "             1_003_600,\n",
    "             1_004_200,\n",
    "             1_004_800\n",
    "             ]:\n",
    "  for model_name in [\"small\", \"base\", \"large\", \"3B\", '3B-blet', '3B'][::-1][1:2]:\n",
    "    for in_file in [\"val\", \"test\", \"train\"][:-1]:\n",
    "      model_parallelism, train_batch_size, keep_checkpoint_max = {\n",
    "        \"small\": (1, 128, 16),\n",
    "        \"base\": (2, 64, 8),\n",
    "        \"large\": (8, 64, 4),\n",
    "        \"xl\": (8, 16, 1),\n",
    "        \"3B\": (4, 16, 1),\n",
    "        \"3B-alt\": (8, 32, 1),\n",
    "        \"3B-blet\": (8, 32, 1)}[model_name.replace(\"t5.1.1.\", '')]\n",
    "      model = t5.models.MtfModel(\n",
    "        model_dir=f\"gs://supert/{model_name}\",\n",
    "        tpu=TPU_ADDRESS,\n",
    "        tpu_topology=TPU_TOPOLOGY,\n",
    "        model_parallelism=model_parallelism,\n",
    "        batch_size=train_batch_size,\n",
    "        sequence_length={\"inputs\": 768, \"targets\": 64},\n",
    "      )\n",
    "      #model.predict(f\"rucos-{in_file}.a.txt\", f\"zero-{model_name}.{in_file}.b.txt\", temperature=0.0,\n",
    "      \n",
    "      #checkpoint_steps=[# 1_000_600,\n",
    "      #                  # 1_001_200,\n",
    "      #                  #1_001_800,\n",
    "      #                  1_002_400\n",
    "      #                  ])\n",
    "      # !mv zero-{model_name}.{in_file}.b.txt-* zero-{model_name}.{in_file}.b.txt\n",
    "      model.score(f\"rucos-{in_file}.x.txt\", f\"rucos-{in_file}.y.txt\", scores_file=f\"zero-{model_name}-{step}.{in_file}\",\n",
    "                  checkpoint_steps=step)\n",
    "      # files.download(f\"{model_name}.{in_file}.b.txt\")\n",
    "      \n",
    "      #model.score(f\"rucos-{in_file}.x.txt\", f\"rucos-{in_file}.y.txt\", scores_file=f\"zero-{model_name}.{in_file}\")\n",
    "      #files.download(f\"zero-{model_name}.{in_file}.scores\")"
   ]
  },
  {
   "cell_type": "code",
   "execution_count": null,
   "metadata": {
    "colab": {
     "base_uri": "https://localhost:8080/",
     "height": 37
    },
    "id": "lOpXX7M5C3NQ",
    "outputId": "45da101c-e9aa-4d35-d299-c026889bdfa5"
   },
   "outputs": [],
   "source": [
    "import os\n",
    "TPU_ADDRESS = \"grpc://\" + os.environ[\"COLAB_TPU_ADDR\"] \n",
    "TPU_TOPOLOGY = 'v2-8'\n",
    "TPU_ADDRESS"
   ]
  },
  {
   "cell_type": "code",
   "execution_count": null,
   "metadata": {
    "colab": {
     "base_uri": "https://localhost:8080/"
    },
    "id": "9dd-OatyC4Gq",
    "outputId": "626439b5-47c2-4428-dd8f-75bbd92aa00f"
   },
   "outputs": [],
   "source": [
    "!t5_mesh_transformer --tpu=\"grpc://10.36.72.250:8470\" --gin_param=\"utils.tpu_mesh_shape.tpu_topology = 'v2-8'\" \\\n",
    "  --model_dir=\"gs://supert/3B-alt\" --gin_file=\"dataset.gin\" \\\n",
    "  --gin_file=\"gs://t5-data/pretrained_models/3B/operative_config.gin\" \\\n",
    "  --gin_param=\"utils.tpu_mesh_shape.model_parallelism = 8\" \\\n",
    "  --gin_param=\"utils.run.train_dataset_fn = @t5.models.mesh_transformer.tsv_dataset_fn\" \\\n",
    "  --gin_param=\"tsv_dataset_fn.filename = 'gs://supert/rucos-train-ru-zero.tsv'\" \\\n",
    "  --gin_param=\"run.train_steps = 1005000\" \\\n",
    "  --gin_param=\"run.batch_size = 128\" \\\n",
    "  --gin_param=\"utils.run.save_checkpoints_steps = 500\" \\\n",
    "  --gin_param=\"utils.run.learning_rate_schedule = @learning_rate_schedules.constant_learning_rate\" \\\n",
    "  --gin_param=\"constant_learning_rate.learning_rate = 1e-3\" \\\n",
    "  --gin_param=\"run.sequence_length = {'inputs': 768, 'targets': 64}\""
   ]
  },
  {
   "cell_type": "code",
   "execution_count": null,
   "metadata": {
    "colab": {
     "base_uri": "https://localhost:8080/"
    },
    "id": "KRdh4SL10mE3",
    "outputId": "d99d9dab-c0e9-4992-9ddc-6a1a3732d213"
   },
   "outputs": [],
   "source": [
    "!t5_mesh_transformer --tpu=\"grpc://10.111.96.162:8470\" --gin_param=\"utils.tpu_mesh_shape.tpu_topology = 'v2-8'\" \\\n",
    "  --model_dir=\"gs://supert/3B\" --gin_file=\"dataset.gin\" \\\n",
    "  --gin_file=\"gs://t5-data/pretrained_models/3B/operative_config.gin\" \\\n",
    "  --gin_param=\"utils.tpu_mesh_shape.model_parallelism = 8\" \\\n",
    "  --gin_param=\"utils.run.train_dataset_fn = @t5.models.mesh_transformer.tsv_dataset_fn\" \\\n",
    "  --gin_param=\"tsv_dataset_fn.filename = 'gs://supert/rucos-train-ru-append.tsv'\" \\\n",
    "  --gin_param=\"run.train_steps = 1005000\" \\\n",
    "  --gin_param=\"run.batch_size = 128\" \\\n",
    "  --gin_param=\"utils.run.save_checkpoints_steps = 500\" \\\n",
    "  --gin_param=\"utils.run.learning_rate_schedule = @learning_rate_schedules.constant_learning_rate\" \\\n",
    "  --gin_param=\"constant_learning_rate.learning_rate = 1e-3\" \\\n",
    "  --gin_param=\"run.sequence_length = {'inputs': 768, 'targets': 1}\""
   ]
  },
  {
   "cell_type": "code",
   "execution_count": null,
   "metadata": {
    "id": "uomfDTvU4QJa"
   },
   "outputs": [],
   "source": []
  }
 ],
 "metadata": {
  "accelerator": "TPU",
  "colab": {
   "collapsed_sections": [],
   "name": "Copy of Untitled0 eval.ipynb",
   "provenance": []
  },
  "kernelspec": {
   "display_name": "Python 3",
   "language": "python",
   "name": "python3"
  },
  "language_info": {
   "codemirror_mode": {
    "name": "ipython",
    "version": 3
   },
   "file_extension": ".py",
   "mimetype": "text/x-python",
   "name": "python",
   "nbconvert_exporter": "python",
   "pygments_lexer": "ipython3",
   "version": "3.9.0"
  }
 },
 "nbformat": 4,
 "nbformat_minor": 1
}
