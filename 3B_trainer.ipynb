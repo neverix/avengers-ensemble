{
 "cells": [
  {
   "cell_type": "code",
   "execution_count": null,
   "metadata": {
    "colab": {
     "base_uri": "https://localhost:8080/",
     "height": 1000
    },
    "id": "vk7goEUn4PpX",
    "outputId": "49da4332-edd8-4d0f-847f-9e1385ff3a5f"
   },
   "outputs": [],
   "source": [
    "!pip install -U  t5[gcp]\\<0.8.0 tensorflow\\<2.4.0 tensorflow-text\\<2.4.0 numpy\\<1.19.0 tfds-nightly==4.0.1.dev202011040107 tensorflow-gcs-config\\<2.4.0"
   ]
  },
  {
   "cell_type": "code",
   "execution_count": null,
   "metadata": {
    "id": "yUxB5YtK4eH8"
   },
   "outputs": [],
   "source": [
    "from google.colab import auth\n",
    "auth.authenticate_user()"
   ]
  },
  {
   "cell_type": "code",
   "execution_count": null,
   "metadata": {
    "colab": {
     "base_uri": "https://localhost:8080/",
     "height": 38
    },
    "id": "ZtBlw3x03p86",
    "outputId": "50528b5a-9f3b-4894-c28f-cd1d6e9ff2f3"
   },
   "outputs": [],
   "source": [
    "import os\n",
    "TPU_ADDRESS = \"grpc://\" + os.environ[\"COLAB_TPU_ADDR\"] \n",
    "TPU_TOPOLOGY = 'v2-8'\n",
    "TPU_ADDRESS"
   ]
  },
  {
   "cell_type": "code",
   "execution_count": null,
   "metadata": {
    "colab": {
     "base_uri": "https://localhost:8080/",
     "height": 421
    },
    "id": "LTZ45Ui5jhDW",
    "outputId": "9db6299d-82e9-4cd5-ac41-15ba333cc484"
   },
   "outputs": [],
   "source": [
    "from matplotlib import pyplot as plt\n",
    "x = 1.\n",
    "n = 0.\n",
    "ns = [n]\n",
    "for i in range(8):\n",
    "  x /= 2.\n",
    "  n += x\n",
    "  print(i, n)\n",
    "  ns.append(n)\n",
    "plt.plot(ns)"
   ]
  },
  {
   "cell_type": "code",
   "execution_count": null,
   "metadata": {
    "colab": {
     "base_uri": "https://localhost:8080/"
    },
    "id": "4ki1_lYrfa36",
    "outputId": "d43ab619-ab4b-4030-d973-4959aa53322b"
   },
   "outputs": [],
   "source": [
    "import tensorflow.compat.v1 as tf\n",
    "tf.disable_v2_behavior()"
   ]
  },
  {
   "cell_type": "code",
   "execution_count": null,
   "metadata": {
    "colab": {
     "base_uri": "https://localhost:8080/"
    },
    "id": "02_uGqCJpq4l",
    "outputId": "13d9cb22-76a6-42f9-e99e-de8349422299"
   },
   "outputs": [],
   "source": [
    "import t5\n",
    "from google.colab import files\n",
    "\n",
    "for step in [# 1_000_600,\n",
    "             # 1_001_200,\n",
    "             #1_002_400,\n",
    "             # 1_001_800,,\n",
    "             1_003_000,\n",
    "             1_003_600,\n",
    "             1_004_200,\n",
    "             1_004_800\n",
    "             ]:\n",
    "  for model_name in [\"small\", \"base\", \"large\", \"3B\", '3B-blet', '3B'][::-1][1:2]:\n",
    "    model_parallelism, train_batch_size, keep_checkpoint_max = {\n",
    "      \"small\": (1, 128, 16),\n",
    "      \"base\": (2, 64, 8),\n",
    "      \"large\": (8, 64, 4),\n",
    "      \"xl\": (8, 16, 1),\n",
    "      \"3B\": (4, 16, 1),\n",
    "      \"3B-alt\": (8, 32, 1),\n",
    "      \"3B-blet\": (8, 32, 1)}[model_name.replace(\"t5.1.1.\", '')]\n",
    "    model = t5.models.MtfModel(\n",
    "      model_dir=f\"gs://supert/{model_name}\",\n",
    "      tpu=TPU_ADDRESS,\n",
    "      tpu_topology=TPU_TOPOLOGY,\n",
    "      model_parallelism=model_parallelism,\n",
    "      batch_size=train_batch_size,\n",
    "      sequence_length={\"inputs\": 768, \"targets\": 64},\n",
    "    )\n",
    "    for in_file in [\"val\", \"test\", \"train\"][:-1]:\n",
    "      model.predict(f\"rucos-{in_file}.a.txt\", f\"zero-{model_name}.{in_file}.b.txt\", temperature=0.0,\n",
    "    \n",
    "      checkpoint_steps=[# 1_000_600,\n",
    "                        # 1_001_200,\n",
    "                        # 1_001_800,\n",
    "                        # 1_002_400,\n",
    "                        1_003_000\n",
    "                        ])\n",
    "    # !mv zero-{model_name}.{in_file}.b.txt-* zero-{model_name}.{in_file}.b.txt\n",
    "    for in_file in [\"val\", \"test\", \"train\"][:-1]:\n",
    "      model.score(f\"rucos-{in_file}.x.txt\", f\"rucos-{in_file}.y.txt\", scores_file=f\"zero-{model_name}-{step}.{in_file}\",\n",
    "                  checkpoint_steps=step)\n",
    "    # files.download(f\"{model_name}.{in_file}.b.txt\")\n",
    "    \n",
    "    #model.score(f\"rucos-{in_file}.x.txt\", f\"rucos-{in_file}.y.txt\", scores_file=f\"zero-{model_name}.{in_file}\")\n",
    "    #files.download(f\"zero-{model_name}.{in_file}.scores\")"
   ]
  },
  {
   "cell_type": "code",
   "execution_count": null,
   "metadata": {
    "colab": {
     "base_uri": "https://localhost:8080/"
    },
    "id": "KRdh4SL10mE3",
    "outputId": "96074bae-347a-4a56-a9b6-81301fea3463"
   },
   "outputs": [],
   "source": [
    "!t5_mesh_transformer --tpu=\"grpc://10.106.72.42:8470\" --gin_param=\"utils.tpu_mesh_shape.tpu_topology = 'v2-8'\" \\\n",
    "  --model_dir=\"gs://supert/3B-blet\" --gin_file=\"dataset.gin\" \\\n",
    "  --gin_file=\"gs://t5-data/pretrained_models/3B/operative_config.gin\" \\\n",
    "  --gin_param=\"utils.tpu_mesh_shape.model_parallelism = 8\" \\\n",
    "  --gin_param=\"utils.run.train_dataset_fn = @t5.models.mesh_transformer.tsv_dataset_fn\" \\\n",
    "  --gin_param=\"tsv_dataset_fn.filename = 'gs://supert/rucos-train-ru-alli.tsv'\" \\\n",
    "  --gin_param=\"run.train_steps = 1005000\" \\\n",
    "  --gin_param=\"run.batch_size = 128\" \\\n",
    "  --gin_param=\"utils.run.save_checkpoints_steps = 500\" \\\n",
    "  --gin_param=\"utils.run.learning_rate_schedule = @learning_rate_schedules.constant_learning_rate\" \\\n",
    "  --gin_param=\"constant_learning_rate.learning_rate = 1e-3\" \\\n",
    "  --gin_param=\"run.sequence_length = {'inputs': 768, 'targets': 64}\""
   ]
  },
  {
   "cell_type": "code",
   "execution_count": null,
   "metadata": {
    "id": "uomfDTvU4QJa"
   },
   "outputs": [],
   "source": []
  }
 ],
 "metadata": {
  "accelerator": "TPU",
  "colab": {
   "collapsed_sections": [],
   "name": "Untitled0. trainer ipynb",
   "provenance": []
  },
  "kernelspec": {
   "display_name": "Python 3",
   "language": "python",
   "name": "python3"
  },
  "language_info": {
   "codemirror_mode": {
    "name": "ipython",
    "version": 3
   },
   "file_extension": ".py",
   "mimetype": "text/x-python",
   "name": "python",
   "nbconvert_exporter": "python",
   "pygments_lexer": "ipython3",
   "version": "3.9.0"
  }
 },
 "nbformat": 4,
 "nbformat_minor": 1
}
